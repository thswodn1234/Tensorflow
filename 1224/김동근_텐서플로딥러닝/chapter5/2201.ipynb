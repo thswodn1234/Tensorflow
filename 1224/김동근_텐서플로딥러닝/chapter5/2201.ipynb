{
  "cells": [
    {
      "cell_type": "code",
      "metadata": {},
      "source": [
        "import tensorflow as tf\n",
        "import numpy as np\n",
        "import matplotlib.pyplot as plt\n",
        "'''\n",
        "ref1: https://en.wikipedia.org/wiki/Iris_flower_data_set#Data_set\n",
        "ref2: https://gist.github.com/curran/a08a1080b88344b0c8a7#file-iris-csv\n",
        "'''\n",
        "#1\n",
        "def load_Iris(shuffle=True):   \n",
        "    label={'setosa':0, 'versicolor':1, 'virginica':2}\n",
        "    data = np.loadtxt(\"./Data/iris.csv\", skiprows=1, delimiter=',',\n",
        "                      converters={4: lambda name: label[name.decode()]})\n",
        "    if shuffle:\n",
        "        np.random.shuffle(data)\n",
        "    return data\n",
        "\n",
        "##iris_data = load_Iris(shuffle=True)    \n",
        "iris_data = load_Iris()\n",
        "X      = iris_data[:,:-1]\n",
        "y_true = iris_data[:, -1]\n",
        "    \n",
        "print(\"X.shape:\", X.shape)\n",
        "print(\"y_true.shape:\", y_true.shape)\n",
        "print(X[:3])\n",
        "print(y_true[:3])\n",
        "\n",
        "#2\n",
        "markers= \"ox+*sd\"\n",
        "colors = \"bgcmyk\"\n",
        "labels = [\"Iris setosa\",\"Iris versicolor\", \"Iris virginica\"]\n",
        "\n",
        "fig = plt.gcf()\n",
        "fig.set_size_inches(6,6)\n",
        "plt.xlabel('Sepal Length')\n",
        "plt.ylabel('Sepal Width')\n",
        "for i, k in enumerate(np.unique(y_true)):\n",
        "  plt.scatter(X[y_true== k, 0], # Sepal Length\n",
        "              X[y_true== k, 1], # Sepal Width\n",
        "              c=colors[i], marker=markers[i], label=labels[i])\n",
        "plt.legend(loc='best')\n",
        "plt.show()\n",
        "\n",
        "#3\n",
        "plt.xlabel('Petal Length')\n",
        "plt.ylabel('Petal Width')\n",
        "for i, k in enumerate(np.unique(y_true)):\n",
        "  plt.scatter(X[y_true== k, 2], # Petal Length\n",
        "              X[y_true== k, 3], # Petal Width\n",
        "              c=colors[i], marker=markers[i], label=labels[i])\n",
        "plt.legend(loc='best')\n",
        "plt.show()\n"
      ],
      "outputs": [],
      "execution_count": null
    }
  ],
  "metadata": {
    "anaconda-cloud": {},
    "kernelspec": {
      "display_name": "Python 3",
      "language": "python",
      "name": "python3"
    },
    "language_info": {
      "codemirror_mode": {
        "name": "ipython",
        "version": 3
      },
      "file_extension": ".py",
      "mimetype": "text/x-python",
      "name": "python",
      "nbconvert_exporter": "python",
      "pygments_lexer": "ipython3",
      "version": "3.6.1"
    }
  },
  "nbformat": 4,
  "nbformat_minor": 4
}