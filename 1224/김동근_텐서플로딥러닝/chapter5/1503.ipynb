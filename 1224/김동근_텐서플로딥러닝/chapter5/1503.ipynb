{
  "cells": [
    {
      "cell_type": "code",
      "metadata": {},
      "source": [
        "import tensorflow as tf\n",
        "import numpy as np\n",
        "\n",
        "SCE = tf.keras.losses.SparseCategoricalCrossentropy()\n",
        "\n",
        "t = tf.convert_to_tensor([0, 1, 2, 3])\n",
        "y =tf.convert_to_tensor([[0.4, 0.3, 0.2, 0.1], #y[0]\n",
        "                         [0.1, 0.3, 0.2, 0.4]])#y[1]\n",
        "\n",
        "#1\n",
        "print(\"SCE(t[i], y[0])\")\n",
        "print(\"SCE(t[0], y[0])=\", SCE(t[0], y[0]).numpy() ) \n",
        "print(\"SCE(t[1], y[0])=\", SCE(t[1], y[0]).numpy() )\n",
        "print(\"SCE(t[2], y[0])=\", SCE(t[2], y[0]).numpy() )\n",
        "print(\"SCE(t[3], y[0])=\", SCE(t[3], y[0]).numpy() ) \n",
        "\n",
        "#2\n",
        "print(\"SCE(t[i], y[1])\")\n",
        "print(\"SCE(t[0], y[1])=\", SCE(t[0], y[1]).numpy() ) \n",
        "print(\"SCE(t[1], y[1])=\", SCE(t[1], y[1]).numpy() )\n",
        "print(\"SCE(t[2], y[1])=\", SCE(t[2], y[1]).numpy() )\n",
        "print(\"SCE(t[3], y[1])=\", SCE(t[3], y[1]).numpy() )\n",
        "\n",
        "#3\n",
        "print(\"SCE(tf.stack((t[1], t[1])), y)=\",\n",
        "       SCE(tf.stack((t[1], t[1])), y).numpy() )\n"
      ],
      "outputs": [],
      "execution_count": null
    }
  ],
  "metadata": {
    "anaconda-cloud": {},
    "kernelspec": {
      "display_name": "Python 3",
      "language": "python",
      "name": "python3"
    },
    "language_info": {
      "codemirror_mode": {
        "name": "ipython",
        "version": 3
      },
      "file_extension": ".py",
      "mimetype": "text/x-python",
      "name": "python",
      "nbconvert_exporter": "python",
      "pygments_lexer": "ipython3",
      "version": "3.6.1"
    }
  },
  "nbformat": 4,
  "nbformat_minor": 4
}