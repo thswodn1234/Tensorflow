{
  "cells": [
    {
      "cell_type": "code",
      "metadata": {},
      "source": [
        "import tensorflow as tf\n",
        "import numpy as np\n",
        "\n",
        "x = tf.constant([-10, -1.0, 0.0, 1.0, 10], dtype = tf.float32)\n",
        "\n",
        "y1 = tf.keras.activations.linear(x) \n",
        "y2 = tf.keras.activations.sigmoid(x)\n",
        "y3 = tf.keras.activations.tanh(x)\n",
        "y4 = tf.keras.activations.relu(x)\n",
        "y5 = tf.keras.layers.LeakyReLU(alpha=0.1)(x)\n",
        "y6 = tf.keras.activations.softmax(tf.reshape(x, shape=(1, -1)))\n",
        "\n",
        "##linear = tf.keras.activations.get('linear')\n",
        "##y1 = linear(x)\n",
        "##\n",
        "##sigmoid = tf.keras.activations.get('sigmoid')\n",
        "##y2 = sigmoid(x)\n",
        "##\n",
        "##tanh = tf.keras.activations.get('tanh')\n",
        "##y3 = tanh(x)\n",
        "##\n",
        "##relu = tf.keras.activations.get('relu')\n",
        "##y4 = relu(x)\n",
        "##\n",
        "##y5 = relu(x, alpha=0.1) # LeakyReLU\n",
        "##softmax = tf.keras.activations.get('softmax')\n",
        "##y6 = softmax(tf.reshape(x, shape=(1, -1)))\n",
        "\n",
        "print(\"y1=\", y1.numpy())\n",
        "print(\"y2=\", y2.numpy())\n",
        "print(\"y3=\", y3.numpy())\n",
        "print(\"y4=\", y4.numpy())\n",
        "print(\"y5=\", y5.numpy())\n",
        "print(\"y6=\", y6.numpy())\n",
        "print(\"sum(y6)=\", np.sum(y6.numpy())) # 1.0\n"
      ],
      "outputs": [],
      "execution_count": null
    }
  ],
  "metadata": {
    "anaconda-cloud": {},
    "kernelspec": {
      "display_name": "Python 3",
      "language": "python",
      "name": "python3"
    },
    "language_info": {
      "codemirror_mode": {
        "name": "ipython",
        "version": 3
      },
      "file_extension": ".py",
      "mimetype": "text/x-python",
      "name": "python",
      "nbconvert_exporter": "python",
      "pygments_lexer": "ipython3",
      "version": "3.6.1"
    }
  },
  "nbformat": 4,
  "nbformat_minor": 4
}