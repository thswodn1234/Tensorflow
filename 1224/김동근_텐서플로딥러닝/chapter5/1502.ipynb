{
  "cells": [
    {
      "cell_type": "code",
      "metadata": {},
      "source": [
        "import tensorflow as tf\n",
        "import numpy as np\n",
        "\n",
        "CCE = tf.keras.losses.CategoricalCrossentropy()\n",
        "t= np.array([[1,   0,   0,   0],   #t[0]\n",
        "             [0,   1,   0,   0],   #t[1]\n",
        "             [0,   0,   1,   0],   #t[2]\n",
        "             [0,   0,   0,   1]])  #t[3]\n",
        " \n",
        "y =np.array([[0.4, 0.3, 0.2, 0.1], #y[0]\n",
        "             [0.1, 0.3, 0.2, 0.4]])#y[1]\n",
        "#1\n",
        "print(\"CCE(t[i], y[0])\")\n",
        "print(\"CCE(t[0], y[0])=\", CCE(t[0], y[0]).numpy() ) \n",
        "print(\"CCE(t[1], y[0])=\", CCE(t[1], y[0]).numpy() )\n",
        "print(\"CCE(t[2], y[0])=\", CCE(t[2], y[0]).numpy() )\n",
        "print(\"CCE(t[3], y[0])=\", CCE(t[3], y[0]).numpy() ) \n",
        "\n",
        "#2\n",
        "print(\"CCE(t[i], y[1])\")\n",
        "print(\"CCE(t[0], y[1])=\", CCE(t[0], y[1]).numpy() ) \n",
        "print(\"CCE(t[1], y[1])=\", CCE(t[1], y[1]).numpy() )\n",
        "print(\"CCE(t[2], y[1])=\", CCE(t[2], y[1]).numpy() )\n",
        "print(\"CCE(t[3], y[1])=\", CCE(t[3], y[1]).numpy() )\n",
        "\n",
        "#3\n",
        "print(\"CCE(np.vstack((t[1], t[1])), y)=\",\n",
        "       CCE(np.vstack((t[1], t[1])), y).numpy() )\n"
      ],
      "outputs": [],
      "execution_count": null
    }
  ],
  "metadata": {
    "anaconda-cloud": {},
    "kernelspec": {
      "display_name": "Python 3",
      "language": "python",
      "name": "python3"
    },
    "language_info": {
      "codemirror_mode": {
        "name": "ipython",
        "version": 3
      },
      "file_extension": ".py",
      "mimetype": "text/x-python",
      "name": "python",
      "nbconvert_exporter": "python",
      "pygments_lexer": "ipython3",
      "version": "3.6.1"
    }
  },
  "nbformat": 4,
  "nbformat_minor": 4
}