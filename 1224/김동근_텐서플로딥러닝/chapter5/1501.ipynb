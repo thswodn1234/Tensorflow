{
  "cells": [
    {
      "cell_type": "code",
      "metadata": {},
      "source": [
        "import tensorflow as tf\n",
        "import numpy as np\n",
        "\n",
        "y = np.arange(10) # integer label\n",
        "print(\"y=\", y)\n",
        "\n",
        "y1 = tf.keras.utils.to_categorical(y) # keras one-hot label\n",
        "print(\"y1=\", y1)\n",
        "\n",
        "##y2 = tf.one_hot(y, depth=10) # tensorflow one-hot label\n",
        "##print(\"y2=\", y2.numpy())\n"
      ],
      "outputs": [],
      "execution_count": null
    }
  ],
  "metadata": {
    "anaconda-cloud": {},
    "kernelspec": {
      "display_name": "Python 3",
      "language": "python",
      "name": "python3"
    },
    "language_info": {
      "codemirror_mode": {
        "name": "ipython",
        "version": 3
      },
      "file_extension": ".py",
      "mimetype": "text/x-python",
      "name": "python",
      "nbconvert_exporter": "python",
      "pygments_lexer": "ipython3",
      "version": "3.6.1"
    }
  },
  "nbformat": 4,
  "nbformat_minor": 4
}