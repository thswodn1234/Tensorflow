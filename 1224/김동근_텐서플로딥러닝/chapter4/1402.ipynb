{
  "cells": [
    {
      "cell_type": "code",
      "metadata": {},
      "source": [
        "import tensorflow as tf\n",
        "import numpy as np\n",
        "import matplotlib.pyplot as plt\n",
        "\n",
        "def dataset(train_size=100): # tensorflow    \n",
        "     tf.random.set_seed(1)\n",
        "     x = tf.linspace(-5.0, 5.0, num=train_size)\n",
        "     y = 3.0*x**3 + 2.0*x**2 + x + 4.0\n",
        "     y += tf.random.normal([train_size], mean=0.0, stddev = 30.0)\n",
        "     return x, y\n",
        "x, y_true = dataset(20)\n",
        "\n",
        "# n-\ucc28 \ub2e4\ud56d\uc2dd \ud68c\uadc0\n",
        "n = 3\n",
        "X = np.ones(shape = (len(x), n+1), dtype=np.float32)\n",
        "for i in range(1, n+1):\n",
        "     X[:, i] = x**i\n",
        "     \n",
        "#1: \ubaa8\ub378 \uc804\uccb4 \ub85c\ub4dc\n",
        "model = tf.keras.models.load_model(\"./RES/1401.h5\")\n",
        "\n",
        "#2: \ubaa8\ub378 \ud3c9\uac00, \uc608\uce21, \uadf8\ub798\ud504 \ud45c\uc2dc\n",
        "loss = model.evaluate(X, y_true, verbose=0) # 0 = silent\n",
        "print(\"loss:\", loss)\n",
        "\n",
        "print(\"len(model.layers):\", len(model.layers)) # 2\n",
        "#print(model.get_weights())  # weights\n",
        "print(\"weights:\", model.layers[1].weights[0].numpy())\n",
        "\n",
        "#3: \uc608\uce21, \uadf8\ub798\ud504 \ud45c\uc2dc\n",
        "plt.scatter(x, y_true) \n",
        "y_pred = model.predict(X)\n",
        "plt.plot(x, y_pred, color='red')\n",
        "plt.show()\n",
        "\n"
      ],
      "outputs": [],
      "execution_count": null
    }
  ],
  "metadata": {
    "anaconda-cloud": {},
    "kernelspec": {
      "display_name": "Python 3",
      "language": "python",
      "name": "python3"
    },
    "language_info": {
      "codemirror_mode": {
        "name": "ipython",
        "version": 3
      },
      "file_extension": ".py",
      "mimetype": "text/x-python",
      "name": "python",
      "nbconvert_exporter": "python",
      "pygments_lexer": "ipython3",
      "version": "3.6.1"
    }
  },
  "nbformat": 4,
  "nbformat_minor": 4
}