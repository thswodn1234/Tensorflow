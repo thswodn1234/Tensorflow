{
  "cells": [
    {
      "cell_type": "code",
      "metadata": {},
      "source": [
        "import tensorflow as tf\n",
        "import numpy as np\n",
        "import matplotlib.pyplot as plt\n",
        "\n",
        "def dataset(train_size=100): # tensorflow    \n",
        "     tf.random.set_seed(1)\n",
        "     x = tf.linspace(-5.0, 5.0, num=train_size)\n",
        "     y = 3.0*x**3 + 2.0*x**2 + x + 4.0\n",
        "     y += tf.random.normal([train_size], mean=0.0, stddev = 30.0)\n",
        "     return x, y\n",
        "x, y_true = dataset(20)\n",
        "##x /= max(x)       # \uc815\uaddc\ud654\n",
        "##y_true /= max(y_true)\n",
        "\n",
        "# n-\ucc28 \ub2e4\ud56d\uc2dd \ud68c\uadc0\n",
        "n = 3\n",
        "X = np.ones(shape = (len(x), n+1), dtype=np.float32)\n",
        "##X[:, 0] = 1.0\n",
        "##X[:, 1] = x\n",
        "##X[:, 2] = x**2\n",
        "##X[:, 3] = x**3\n",
        "for i in range(1, n+1):\n",
        "     X[:, i] = x**i\n",
        "\n",
        "model=tf.keras.Sequential(\n",
        "        [tf.keras.layers.Dense(units=1, use_bias=False,input_shape=(n+1,))])\n",
        "model.summary()\n",
        "\n",
        "opt = tf.keras.optimizers.RMSprop(learning_rate=0.1)\n",
        "model.compile(optimizer=opt, loss='mse')\n",
        "ret = model.fit(X, y_true, epochs=100, verbose=2)\n",
        "print(\"len(model.layers):\", len(model.layers)) # 1\n",
        "\n",
        "loss = ret.history['loss']\n",
        "print(\"loss:\", loss[-1])\n",
        "#print(model.get_weights())  # weights\n",
        "print(\"weights:\", model.layers[0].weights[0].numpy())\n",
        "\n",
        "plt.plot(loss)\n",
        "plt.xlabel('epochs')\n",
        "plt.ylabel('loss')\n",
        "plt.show()\n",
        "\n",
        "plt.scatter(x, y_true) \n",
        "y_pred = model.predict(X)\n",
        "plt.plot(x, y_pred, color='red')\n",
        "plt.show()\n"
      ],
      "outputs": [],
      "execution_count": null
    }
  ],
  "metadata": {
    "anaconda-cloud": {},
    "kernelspec": {
      "display_name": "Python 3",
      "language": "python",
      "name": "python3"
    },
    "language_info": {
      "codemirror_mode": {
        "name": "ipython",
        "version": 3
      },
      "file_extension": ".py",
      "mimetype": "text/x-python",
      "name": "python",
      "nbconvert_exporter": "python",
      "pygments_lexer": "ipython3",
      "version": "3.6.1"
    }
  },
  "nbformat": 4,
  "nbformat_minor": 4
}