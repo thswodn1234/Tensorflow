{
  "cells": [
    {
      "cell_type": "code",
      "metadata": {},
      "source": [
        "import tensorflow as tf\n",
        "import numpy as np\n",
        "import matplotlib.pyplot as plt\n",
        "\n",
        "def dataset(train_size=100): # tensorflow    \n",
        "     tf.random.set_seed(1)\n",
        "     x = tf.linspace(-5.0, 5.0, num=train_size)\n",
        "     y = 3.0*x**3 + 2.0*x**2 + x + 4.0\n",
        "     y += tf.random.normal([train_size], mean=0.0, stddev = 30.0)\n",
        "     return x, y\n",
        "\n",
        "x, y_true = dataset(20)\n",
        "\n",
        "# n-\ucc28 \ub2e4\ud56d\uc2dd \ud68c\uadc0\n",
        "n = 3\n",
        "X = np.ones(shape = (len(x), n+1), dtype=np.float32)\n",
        "for i in range(1, n+1):\n",
        "     X[:, i] = x**i\n",
        "\n",
        "inputs = tf.keras.layers.Input(shape=(n+1,))\n",
        "outputs = tf.keras.layers.Dense(units=1, use_bias=False)(inputs)\n",
        "model = tf.keras.Model(inputs=inputs, outputs=outputs)\n",
        "model.summary()\n",
        "\n",
        "opt = tf.keras.optimizers.RMSprop(learning_rate=0.1)\n",
        "model.compile(optimizer=opt, loss='mse')\n",
        "ret = model.fit(X, y_true, epochs=100, verbose=2)\n",
        "\n",
        "#1: \ubaa8\ub378 \uc804\uccb4 \uc800\uc7a5\n",
        "import os\n",
        "if not os.path.exists(\"./RES\"):\n",
        "     os.mkdir(\"./RES\")\n",
        "model.save(\"./RES/1401.h5\")   # HDF5, keras format\n",
        "\n",
        "#2: \ubaa8\ub378 \uad6c\uc870 \uc800\uc7a5\n",
        "json_string = model.to_json()\n",
        "import json\n",
        "file = open(\"./RES/1401.model\", 'w')\n",
        "json.dump(json_string, file)\n",
        "file.close()\n",
        " \n",
        "#3: \uac00\uc911\uce58 \uc800\uc7a5\n",
        "model.save_weights(\"./RES/weights/1401\")\n",
        " \n",
        "#4: \ud559\uc2b5\uc911\uc5d0 \uccb4\ud06c\ud3ec\uc778\ud2b8 \uc800\uc7a5\n",
        "filepath = \"RES/ckpt/1401-{epoch:04d}.ckpt\"\n",
        "cp_callback = tf.keras.callbacks.ModelCheckpoint(\n",
        "              filepath, verbose=0, save_weights_only=True, save_freq=50)\n",
        "ret = model.fit(X, y_true, epochs=100, callbacks = [cp_callback], verbose=0)\n"
      ],
      "outputs": [],
      "execution_count": null
    }
  ],
  "metadata": {
    "anaconda-cloud": {},
    "kernelspec": {
      "display_name": "Python 3",
      "language": "python",
      "name": "python3"
    },
    "language_info": {
      "codemirror_mode": {
        "name": "ipython",
        "version": 3
      },
      "file_extension": ".py",
      "mimetype": "text/x-python",
      "name": "python",
      "nbconvert_exporter": "python",
      "pygments_lexer": "ipython3",
      "version": "3.6.1"
    }
  },
  "nbformat": 4,
  "nbformat_minor": 4
}