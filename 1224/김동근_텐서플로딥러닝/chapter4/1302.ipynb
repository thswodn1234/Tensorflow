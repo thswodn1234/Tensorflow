{
  "cells": [
    {
      "cell_type": "code",
      "metadata": {},
      "source": [
        "import tensorflow as tf\n",
        "import numpy as np\n",
        "import matplotlib.pyplot as plt\n",
        "\n",
        "train_data = np.array([ # t = 1*x0 + 2*x1 + 3\n",
        "#  x0, x1, t      \n",
        " [ 1,  0,  4],\n",
        " [ 2,  0,  5],\n",
        " [ 3,  0,  6],\n",
        " [ 4,  0,  7],\n",
        " [ 1,  1,  6],\n",
        " [ 2,  1,  7],\n",
        " [ 3,  1,  8],\n",
        " [ 4,  1,  9]], dtype=np.float32)\n",
        "\n",
        "X      = train_data[:, :-1]\n",
        "y_true = train_data[:, -1:]  # t\n",
        "##y_true += np.reshape(np.random.randn(len(y_true))*2.0, (-1, 1)) \n",
        "\n",
        "inputs = tf.keras.layers.Input(shape=(2,))\n",
        "##y = tf.keras.layers.Dense(units=1)  # ,input_shape=(2,))\n",
        "##outputs = y(inputs)\n",
        "outputs = tf.keras.layers.Dense(units=1)(inputs)\n",
        "\n",
        "model = tf.keras.Model(inputs=inputs, outputs=outputs)\n",
        "model.summary()\n",
        "\n",
        "##opt = tf.keras.optimizers.SGD(learning_rate=0.01)  # optimizer='sgd'\n",
        "##opt = tf.keras.optimizers.Adam(learning_rate=0.01) # 'adam'\n",
        "opt = tf.keras.optimizers.RMSprop(learning_rate=0.1) # 'rmsprop'\n",
        "model.compile(optimizer=opt, loss='mse') # 'mean_squared_error'\n",
        "\n",
        "ret = model.fit(X, y_true, epochs=100, batch_size=4, verbose=2) # 2: one line per epoch\n",
        "y_pred = model.predict(X)\n",
        "print(\"y_pred:\", y_pred)\n",
        "print(\"len(model.layers):\", len(model.layers)) # 2\n",
        "\n",
        "loss = ret.history['loss']\n",
        "print(\"loss:\", loss[-1])\n",
        "#print(model.get_weights())\n",
        "print(\"weights:\", model.layers[1].weights[0].numpy())\n",
        "print(\"bias:\", model.layers[1].weights[1].numpy()) # model.layers[1].bias.numpy()\n",
        "\n",
        "plt.plot(loss)\n",
        "plt.xlabel('epochs')\n",
        "plt.ylabel('loss')\n",
        "plt.show()\n"
      ],
      "outputs": [],
      "execution_count": null
    }
  ],
  "metadata": {
    "anaconda-cloud": {},
    "kernelspec": {
      "display_name": "Python 3",
      "language": "python",
      "name": "python3"
    },
    "language_info": {
      "codemirror_mode": {
        "name": "ipython",
        "version": 3
      },
      "file_extension": ".py",
      "mimetype": "text/x-python",
      "name": "python",
      "nbconvert_exporter": "python",
      "pygments_lexer": "ipython3",
      "version": "3.6.1"
    }
  },
  "nbformat": 4,
  "nbformat_minor": 4
}