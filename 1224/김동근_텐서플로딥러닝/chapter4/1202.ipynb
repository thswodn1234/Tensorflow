{
  "cells": [
    {
      "cell_type": "code",
      "metadata": {},
      "source": [
        "import tensorflow as tf\n",
        "import numpy as np\n",
        "import matplotlib.pyplot as plt\n",
        "\n",
        "train_data = np.array([ # t = 1*x0 + 2*x1 + 3\n",
        "#  x0, x1, t      \n",
        " [ 1,  0,  4],\n",
        " [ 2,  0,  5],\n",
        " [ 3,  0,  6],\n",
        " [ 4,  0,  7],\n",
        " [ 1,  1,  6],\n",
        " [ 2,  1,  7],\n",
        " [ 3,  1,  8],\n",
        " [ 4,  1,  9]], dtype=np.float32)\n",
        "\n",
        "X      = train_data[:, :-1]\n",
        "y_true = train_data[:, -1:]  # t\n",
        "##y_true += np.reshape(np.random.randn(len(y_true))*2.0, (-1, 1)) \n",
        "\n",
        "model = tf.keras.Sequential()\n",
        "model.add(tf.keras.layers.Dense(units=1, input_dim=2)) # input_shape=(2,)\n",
        "model.summary()\n",
        "\n",
        "##opt = tf.keras.optimizers.SGD(learning_rate=0.01)\n",
        "##opt = tf.keras.optimizers.Adam(learning_rate=0.1)\n",
        "opt = tf.keras.optimizers.RMSprop(learning_rate=0.1)\n",
        "model.compile(optimizer=opt, loss='mse') # 'mean_squared_error'\n",
        "##model.compile(optimizer='sgd', loss='mse') # 'sgd', 'adam', 'rmsprop'\n",
        "\n",
        "# 0: silent, 1:progress bar,  2: one line per epoch \n",
        "ret = model.fit(X, y_true, epochs=100, batch_size=4, verbose=2)\n",
        "y_pred = model.predict(X)\n",
        "print(\"y_pred:\", y_pred)\n",
        "print(\"len(model.layers):\", len(model.layers)) # 1\n",
        "\n",
        "loss = ret.history['loss']\n",
        "print(\"loss:\", loss[-1])\n",
        "#print(model.get_weights())\n",
        "print(\"weights:\", model.layers[0].weights[0].numpy())\n",
        "print(\"bias:\", model.layers[0].weights[1].numpy()) # model.layers[0].bias.numpy()\n",
        "\n",
        "plt.plot(loss)\n",
        "plt.xlabel('epochs')\n",
        "plt.ylabel('loss')\n",
        "plt.show()\n"
      ],
      "outputs": [],
      "execution_count": null
    }
  ],
  "metadata": {
    "anaconda-cloud": {},
    "kernelspec": {
      "display_name": "Python 3",
      "language": "python",
      "name": "python3"
    },
    "language_info": {
      "codemirror_mode": {
        "name": "ipython",
        "version": 3
      },
      "file_extension": ".py",
      "mimetype": "text/x-python",
      "name": "python",
      "nbconvert_exporter": "python",
      "pygments_lexer": "ipython3",
      "version": "3.6.1"
    }
  },
  "nbformat": 4,
  "nbformat_minor": 4
}