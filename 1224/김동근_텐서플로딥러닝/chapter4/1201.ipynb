{
  "cells": [
    {
      "cell_type": "code",
      "metadata": {},
      "source": [
        "import tensorflow as tf\n",
        "import numpy as np\n",
        "import matplotlib.pyplot as plt\n",
        "\n",
        "##def dataset(train_size=100): # numpy\n",
        "##     np.random.seed(1)\n",
        "##     x = np.linspace(0.0, 10.0, num=train_size)\n",
        "####     y = x**3 + x**2 + x + 4.0\n",
        "##     y = 3.0*x - 10.0\n",
        "####     y+= np.random.randn(train_size)*2.0\n",
        "##     y += np.random.normal(loc=0.0, scale=2.0, size=train_size)\n",
        "##     return x, y\n",
        "\n",
        "def dataset(train_size=100): # tensorflow    \n",
        "     tf.random.set_seed(1)\n",
        "     x = tf.linspace(0.0, 10.0, num=train_size)\n",
        "##     y = x**3 + x**2 + x + 4.0\n",
        "     y = 3.0*x - 10.0\n",
        "     y += tf.random.normal([train_size], mean=0.0, stddev = 2.0)\n",
        "     return x, y\n",
        "x, y_true = dataset(20)\n",
        "\n",
        "model = tf.keras.Sequential()\n",
        "model.add(tf.keras.layers.Dense(units=1, input_dim=1))\n",
        "##model.add(tf.keras.layers.Dense(units=1, input_shape=(1,))) # [1]\n",
        "##model = tf.keras.Sequential([tf.keras.layers.Dense(units=1, input_shape=(1,))])\n",
        "model.summary()\n",
        "\n",
        "##opt = tf.keras.optimizers.SGD(learning_rate=0.01)\n",
        "##opt = tf.keras.optimizers.Adam(learning_rate=0.1)\n",
        "opt = tf.keras.optimizers.RMSprop(learning_rate=0.1)\n",
        "model.compile(optimizer=opt, loss='mse') # 'mean_squared_error'\n",
        "##model.compile(optimizer='sgd', loss='mse') # 'sgd', 'adam', 'rmsprop'\n",
        "\n",
        "# 0: silent, 1:progress bar,  2: one line per epoch \n",
        "ret = model.fit(x, y_true, epochs=100, batch_size=4, verbose=2)\n",
        "print(\"len(model.layers):\", len(model.layers)) # 1\n",
        "\n",
        "loss = ret.history['loss']\n",
        "print(\"loss:\", loss[-1])\n",
        "#print(model.get_weights())  # weights, bias\n",
        "print(\"weights:\", model.layers[0].weights[0].numpy())\n",
        "print(\"bias:\", model.layers[0].weights[1].numpy()) # model.layers[0].bias.numpy()\n",
        "\n",
        "plt.plot(loss)\n",
        "plt.xlabel('epochs')\n",
        "plt.ylabel('loss')\n",
        "plt.show()\n",
        "\n",
        "plt.scatter(x, y_true)\n",
        "y_pred = model.predict(x)\n",
        "plt.plot(x, y_pred, color='red')\n",
        "plt.show()\n"
      ],
      "outputs": [],
      "execution_count": null
    }
  ],
  "metadata": {
    "anaconda-cloud": {},
    "kernelspec": {
      "display_name": "Python 3",
      "language": "python",
      "name": "python3"
    },
    "language_info": {
      "codemirror_mode": {
        "name": "ipython",
        "version": 3
      },
      "file_extension": ".py",
      "mimetype": "text/x-python",
      "name": "python",
      "nbconvert_exporter": "python",
      "pygments_lexer": "ipython3",
      "version": "3.6.1"
    }
  },
  "nbformat": 4,
  "nbformat_minor": 4
}