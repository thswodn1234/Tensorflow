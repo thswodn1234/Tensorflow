{
  "cells": [
    {
      "cell_type": "code",
      "metadata": {},
      "source": [
        "import tensorflow as tf\n",
        "import numpy as np\n",
        "import matplotlib.pyplot as plt\n",
        "\n",
        "def dataset(train_size=100): # tensorflow    \n",
        "     tf.random.set_seed(1)\n",
        "     x = tf.linspace(-5.0, 5.0, num=train_size)\n",
        "     y = 3.0*x**3 + 2.0*x**2 + x + 4.0\n",
        "     y += tf.random.normal([train_size], mean=0.0, stddev = 30.0)\n",
        "     return x, y\n",
        "x, y_true = dataset(20)\n",
        "\n",
        "# n-\ucc28 \ub2e4\ud56d\uc2dd \ud68c\uadc0\n",
        "n = 3\n",
        "X = np.ones(shape = (len(x), n+1), dtype=np.float32)\n",
        "for i in range(1, n+1):\n",
        "     X[:, i] = x**i\n",
        "\n",
        "##inputs = tf.keras.layers.Input(shape=(n+1,))\n",
        "##outputs = tf.keras.layers.Dense(units=1, use_bias=False)(inputs)\n",
        "##model = tf.keras.Model(inputs=inputs, outputs=outputs)\n",
        "##model.summary()\n",
        "\n",
        "#1: \ubaa8\ub378 \uad6c\uc870 \ub85c\ub4dc\n",
        "import json\n",
        "file = open(\"./RES/1401.model\", 'r')\n",
        "json_model = json.load(file)\n",
        "file.close()\n",
        "model = tf.keras.models.model_from_json(json_model)\n",
        "model.summary()\n",
        "\n",
        "#2\n",
        "opt = tf.keras.optimizers.RMSprop(learning_rate=0.1)\n",
        "model.compile(optimizer=opt, loss='mse')\n",
        "\n",
        "#3\n",
        "model.load_weights(\"./RES/weights/1401\")    # \uac00\uc911\uce58 \ub85c\ub4dc \n",
        "loss = model.evaluate(X, y_true, verbose=0) # 0 = silent\n",
        "print(\"loss:\", loss)\n",
        "print(\"len(model.layers):\", len(model.layers)) # 1\n",
        "#print(model.get_weights())  # weights\n",
        "print(\"weights:\", model.layers[1].weights[0].numpy())\n",
        "\n",
        "#4\n",
        "y_pred = model.predict(X)\n",
        "plt.scatter(x, y_true) \n",
        "plt.plot(x, y_pred, color='red')\n",
        "plt.show()\n"
      ],
      "outputs": [],
      "execution_count": null
    }
  ],
  "metadata": {
    "anaconda-cloud": {},
    "kernelspec": {
      "display_name": "Python 3",
      "language": "python",
      "name": "python3"
    },
    "language_info": {
      "codemirror_mode": {
        "name": "ipython",
        "version": 3
      },
      "file_extension": ".py",
      "mimetype": "text/x-python",
      "name": "python",
      "nbconvert_exporter": "python",
      "pygments_lexer": "ipython3",
      "version": "3.6.1"
    }
  },
  "nbformat": 4,
  "nbformat_minor": 4
}