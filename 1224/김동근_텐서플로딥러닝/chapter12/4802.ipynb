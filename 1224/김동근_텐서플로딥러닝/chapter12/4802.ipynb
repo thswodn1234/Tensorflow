{
  "cells": [
    {
      "cell_type": "code",
      "metadata": {},
      "source": [
        "import tensorflow as tf\n",
        "from tensorflow.keras.preprocessing import image # pip install pillow\n",
        "import numpy as np\n",
        "import matplotlib.pyplot as plt\n",
        "\n",
        "#1: load image\n",
        "img_path = \"./data/dog.jpg\"\n",
        "img = image.load_img(img_path, target_size=(224, 224))\n",
        "img = image.img_to_array(img)  # (224, 224, 3)\n",
        " \n",
        "#2:random transform img: 3D\n",
        "outs = []\n",
        "outs.append(img) # original image\n",
        "#2-1\n",
        "##for i in range(7):\n",
        "##    outs.append(image.random_brightness(img, brightness_range=[0.2, 1.0]))\n",
        "\n",
        "#2-2  \n",
        "##for i in range(7):\n",
        "##    outs.append(image.random_shift(img, wrg= 0.4, hrg= 0.0,\n",
        "##                      row_axis=0, col_axis=1, channel_axis=2))\n",
        "\n",
        "#2-3\n",
        "##for i in range(7):\n",
        "##    outs.append(image.random_shear(img, intensity=40, # intensity in degrees\n",
        "##                      row_axis=0, col_axis=1, channel_axis=2))\n",
        "\n",
        "#2-4\n",
        "##for i in range(7):\n",
        "##    outs.append(image.random_rotation(img, rg=20,\n",
        "##                      row_axis=0, col_axis=1, channel_axis=2))\n",
        "\n",
        "#2-5\n",
        "for i in range(7):    \n",
        "    outs.append(image.random_zoom(img, zoom_range= [0.4, 1.6],\n",
        "                      row_axis=0, col_axis=1, channel_axis=2))\n",
        "     \n",
        "#3: display  \n",
        "fig = plt.figure(figsize=(8, 4))\n",
        "for i in range(8):   \n",
        "    plt.subplot(2, 4, i + 1)  \n",
        "    plt.imshow(outs[i].astype('uint8'))\n",
        "    plt.axis(\"off\")\n",
        "fig.tight_layout()\n",
        "plt.show() \n"
      ],
      "outputs": [],
      "execution_count": null
    }
  ],
  "metadata": {
    "anaconda-cloud": {},
    "kernelspec": {
      "display_name": "Python 3",
      "language": "python",
      "name": "python3"
    },
    "language_info": {
      "codemirror_mode": {
        "name": "ipython",
        "version": 3
      },
      "file_extension": ".py",
      "mimetype": "text/x-python",
      "name": "python",
      "nbconvert_exporter": "python",
      "pygments_lexer": "ipython3",
      "version": "3.6.1"
    }
  },
  "nbformat": 4,
  "nbformat_minor": 4
}