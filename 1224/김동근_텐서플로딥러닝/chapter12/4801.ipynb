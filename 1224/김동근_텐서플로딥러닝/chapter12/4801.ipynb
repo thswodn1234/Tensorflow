{
  "cells": [
    {
      "cell_type": "code",
      "metadata": {},
      "source": [
        "import tensorflow as tf\n",
        "from tensorflow.keras.preprocessing import image # pip install pillow\n",
        "import numpy as np\n",
        "import matplotlib.pyplot as plt\n",
        "\n",
        "#1: load image\n",
        "img_path = \"./data/dog.jpg\"\n",
        "img = image.load_img(img_path,\n",
        "                     target_size=(224, 224)) #(img_height, img_width)\n",
        "img = image.img_to_array(img) # (224, 224, 3)\n",
        " \n",
        "#2: transform img: 3D tensor\n",
        "outs = []\n",
        "labels = []\n",
        "outs.append(img) # original image\n",
        "labels.append(\"original\")\n",
        "\n",
        "outs.append(image.apply_affine_transform(img, theta= 30))\n",
        "labels.append(\"theta= 30\")\n",
        "\n",
        "outs.append(image.apply_affine_transform(img, theta= 60))\n",
        "labels.append(\"theta= 60\")\n",
        "\n",
        "outs.append(image.apply_affine_transform(img, theta= 90))\n",
        "labels.append(\"theta= 90\")\n",
        "\n",
        "outs.append(image.apply_affine_transform(img, tx= 0, ty=50))\n",
        "labels.append(\"tx= 0, ty=50\")\n",
        "\n",
        "outs.append(image.apply_affine_transform(img, shear= 50))\n",
        "labels.append(\"shear= 50\")\n",
        "\n",
        "outs.append(image.apply_affine_transform(img, zx= 0.5, zy=1.0)) # zoom\n",
        "labels.append(\"zx= 0.5, zy=1.0\")\n",
        "\n",
        "outs.append(image.apply_brightness_shift(img, brightness= 0.5))\n",
        "labels.append(\"brightness= 0.5\")\n",
        "\n",
        "#3: save images in outs\n",
        "img_path = \"./data/transformed/\"\n",
        "for i in range(8):\n",
        "    img=image.array_to_img(outs[i])\n",
        "    image.save_img(img_path+str(i)+\".png\", img)\n",
        " \n",
        "#4: display images in outs \n",
        "fig = plt.figure(figsize=(8, 4))\n",
        "for i in range(8):   \n",
        "    plt.subplot(2, 4, i + 1)  \n",
        "    plt.imshow(outs[i].astype('uint8'))\n",
        "    plt.title(labels[i])\n",
        "    plt.axis(\"off\")\n",
        "    \n",
        "fig.tight_layout()\n",
        "plt.show() \n"
      ],
      "outputs": [],
      "execution_count": null
    }
  ],
  "metadata": {
    "anaconda-cloud": {},
    "kernelspec": {
      "display_name": "Python 3",
      "language": "python",
      "name": "python3"
    },
    "language_info": {
      "codemirror_mode": {
        "name": "ipython",
        "version": 3
      },
      "file_extension": ".py",
      "mimetype": "text/x-python",
      "name": "python",
      "nbconvert_exporter": "python",
      "pygments_lexer": "ipython3",
      "version": "3.6.1"
    }
  },
  "nbformat": 4,
  "nbformat_minor": 4
}