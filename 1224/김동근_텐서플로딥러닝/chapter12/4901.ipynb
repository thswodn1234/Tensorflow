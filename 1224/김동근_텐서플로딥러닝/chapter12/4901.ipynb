{
  "cells": [
    {
      "cell_type": "code",
      "metadata": {},
      "source": [
        "import tensorflow as tf\n",
        "from tensorflow.keras.preprocessing.image import ImageDataGenerator\n",
        "from tensorflow.keras.preprocessing import image # pip install pillow\n",
        "import numpy as np\n",
        "import matplotlib.pyplot as plt\n",
        "\n",
        "#1: load image\n",
        "img_path = \"./data/dog.jpg\"\n",
        "img = image.load_img(img_path, target_size=(224, 224))\n",
        "img = image.img_to_array(img)\n",
        "##img = np.expand_dims(img, axis=0)  # (1, 224, 224, 3)\n",
        "img = tf.expand_dims(img, axis=0)   # (1, 224, 224, 3)\n",
        "\n",
        "#2:random image augmentation\n",
        "# ref: https://keras.io/ko/preprocessing/image/\n",
        "##datagen = ImageDataGenerator(rotation_range=10,width_shift_range=0.1,    \n",
        "##                             height_shift_range=0.1, zoom_range=0.2)\n",
        "##datagen = ImageDataGenerator(width_shift_range=0.4)  #[-10, 10]\n",
        "##datagen = ImageDataGenerator(height_shift_range=0.2)\n",
        "##datagen = ImageDataGenerator(horizontal_flip=True)\n",
        "##datagen = ImageDataGenerator(vertical_flip =True)\n",
        "##datagen = ImageDataGenerator(brightness_range= [0.2, 1.0])\n",
        "##datagen = ImageDataGenerator(zoom_range=0.4) #[0.6, 1.4])\n",
        "datagen = ImageDataGenerator(rotation_range=90)\n",
        "\n",
        "it = datagen.flow(img, batch_size=1)\n",
        "\n",
        "#3: generate and display    \n",
        "fig = plt.figure(figsize=(8, 4))\n",
        "for i in range(8):\n",
        "    if i == 0:\n",
        "        batch = img # original image\n",
        "    else:\n",
        "        batch = it.next() # generate an image from datagen\n",
        "    plt.subplot(2, 4, i + 1)  \n",
        "    plt.imshow(tf.cast(batch[0], tf.uint8)) ## plt.imshow(batch[0].astype('uint8'))        \n",
        "    plt.axis(\"off\")\n",
        "fig.tight_layout()\n",
        "plt.show() \n"
      ],
      "outputs": [],
      "execution_count": null
    }
  ],
  "metadata": {
    "anaconda-cloud": {},
    "kernelspec": {
      "display_name": "Python 3",
      "language": "python",
      "name": "python3"
    },
    "language_info": {
      "codemirror_mode": {
        "name": "ipython",
        "version": 3
      },
      "file_extension": ".py",
      "mimetype": "text/x-python",
      "name": "python",
      "nbconvert_exporter": "python",
      "pygments_lexer": "ipython3",
      "version": "3.6.1"
    }
  },
  "nbformat": 4,
  "nbformat_minor": 4
}