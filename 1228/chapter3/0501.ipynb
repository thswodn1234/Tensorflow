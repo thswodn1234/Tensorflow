{
  "cells": [
    {
      "cell_type": "code",
      "execution_count": 1,
      "metadata": {},
      "outputs": [
        {
          "name": "stdout",
          "output_type": "stream",
          "text": [
            "MSE(t, y1)= 1.875\n",
            "MSE(t, y2)= 0.25\n"
          ]
        }
      ],
      "source": [
        "import numpy as np\n",
        "\n",
        "def MSE(y, t):\n",
        "    return np.sum((y-t)**2)/t.size\n",
        "\n",
        "t = np.array([1,    2, 3,   4])    \n",
        "y1 = np.array([0.5, 1, 1.5, 2])\n",
        "\n",
        "print(\"MSE(t, y1)=\", MSE(t, y1))\n",
        "\n",
        "y2 = np.array([0.5, 1.5, 2.5, 3.5])\n",
        "print(\"MSE(t, y2)=\", MSE(t, y2))\n"
      ]
    }
  ],
  "metadata": {
    "anaconda-cloud": {},
    "kernelspec": {
      "display_name": "base",
      "language": "python",
      "name": "python3"
    },
    "language_info": {
      "codemirror_mode": {
        "name": "ipython",
        "version": 3
      },
      "file_extension": ".py",
      "mimetype": "text/x-python",
      "name": "python",
      "nbconvert_exporter": "python",
      "pygments_lexer": "ipython3",
      "version": "3.9.13"
    },
    "vscode": {
      "interpreter": {
        "hash": "ad2bdc8ecc057115af97d19610ffacc2b4e99fae6737bb82f5d7fb13d2f2c186"
      }
    }
  },
  "nbformat": 4,
  "nbformat_minor": 4
}
