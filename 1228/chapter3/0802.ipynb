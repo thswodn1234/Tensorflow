{
  "cells": [
    {
      "cell_type": "code",
      "execution_count": 1,
      "metadata": {},
      "outputs": [
        {
          "name": "stdout",
          "output_type": "stream",
          "text": [
            "w=0.9925. b=0.0560, batch_loss=0.0007893997729600718\n"
          ]
        },
        {
          "data": {
            "image/png": "[encoded data removed]",
            "text/plain": [
              "<Figure size 640x480 with 1 Axes>"
            ]
          },
          "metadata": {},
          "output_type": "display_data"
        }
      ],
      "source": [
        "import numpy as np\n",
        "import tensorflow as tf\n",
        "import matplotlib.pyplot as plt\n",
        "\n",
        "x = np.arange(12)\n",
        "t = np.arange(12)\n",
        "\n",
        "w = tf.Variable(0.5)\n",
        "b = tf.Variable(0.0)\n",
        "lr= 0.001   # learning rate, 0.0001\n",
        "\n",
        "train_size = x.size # 12\n",
        "batch_size = 4\n",
        "K = train_size// batch_size\n",
        "\n",
        "loss_list = [ ]\n",
        "for epoch in range(100):\n",
        "    batch_loss = 0.0\n",
        "    for step in range(K):\n",
        "        mask = np.random.choice(train_size, batch_size)\n",
        "        x_batch = x[mask]\n",
        "        t_batch = t[mask]\n",
        "        \n",
        "        with tf.GradientTape() as tape:\n",
        "            y = w*x_batch + b\n",
        "            loss = tf.reduce_mean(tf.square(y - t_batch))\n",
        "\n",
        "        dW, dB = tape.gradient(loss, [w, b])\n",
        "        w.assign_sub(lr * dW)\n",
        "        b.assign_sub(lr * dB)\n",
        "\n",
        "        batch_loss += loss.numpy() # pre-update loss\n",
        "    batch_loss /= K #  average loss\n",
        "    loss_list.append(batch_loss) \n",
        "\n",
        "##    if not epoch%10:\n",
        "##        print(\"epoch={}: w={:>.4f}. b={:>.4f}, batch_loss={}\".format(\n",
        "##               epoch, w.numpy(), b.numpy(), batch_loss))\n",
        "\n",
        "print(\"w={:>.4f}. b={:>.4f}, batch_loss={}\".format(w.numpy(), b.numpy(), batch_loss))\n",
        "\n",
        "plt.plot(loss_list)\n",
        "plt.show()\n"
      ]
    }
  ],
  "metadata": {
    "anaconda-cloud": {},
    "kernelspec": {
      "display_name": "base",
      "language": "python",
      "name": "python3"
    },
    "language_info": {
      "codemirror_mode": {
        "name": "ipython",
        "version": 3
      },
      "file_extension": ".py",
      "mimetype": "text/x-python",
      "name": "python",
      "nbconvert_exporter": "python",
      "pygments_lexer": "ipython3",
      "version": "3.9.13"
    },
    "vscode": {
      "interpreter": {
        "hash": "ad2bdc8ecc057115af97d19610ffacc2b4e99fae6737bb82f5d7fb13d2f2c186"
      }
    }
  },
  "nbformat": 4,
  "nbformat_minor": 4
}
