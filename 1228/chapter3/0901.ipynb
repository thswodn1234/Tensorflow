{
  "cells": [
    {
      "cell_type": "code",
      "execution_count": 1,
      "metadata": {},
      "outputs": [
        {
          "name": "stdout",
          "output_type": "stream",
          "text": [
            "X= [[1. 0.]\n",
            " [2. 0.]\n",
            " [3. 0.]\n",
            " [4. 0.]\n",
            " [1. 1.]\n",
            " [2. 1.]\n",
            " [3. 1.]\n",
            " [4. 1.]]\n",
            "t= [[4.]\n",
            " [5.]\n",
            " [6.]\n",
            " [7.]\n",
            " [6.]\n",
            " [7.]\n",
            " [8.]\n",
            " [9.]]\n",
            "W= [[-1.1012203]\n",
            " [ 1.5457517]]\n",
            "b= [0.40308788]\n",
            "y= [[-0.6981324 ]\n",
            " [-1.7993526 ]\n",
            " [-2.900573  ]\n",
            " [-4.001793  ]\n",
            " [ 0.8476193 ]\n",
            " [-0.25360093]\n",
            " [-1.3548213 ]\n",
            " [-2.4560416 ]]\n",
            "MSE(y, t)= 70.80983\n"
          ]
        }
      ],
      "source": [
        "import numpy as np\n",
        "import tensorflow as tf\n",
        "\n",
        "##def MSE(y, t):\n",
        "##    return tf.reduce_mean(tf.square(y - t)) # (y - t)**2\n",
        "MSE = tf.keras.losses.MeanSquaredError()\n",
        "\n",
        "train_data = np.array([ # t = 1*x1 + 2*x2 + 3\n",
        "#  x1, x2, t      \n",
        " [ 1,  0,  4],\n",
        " [ 2,  0,  5],\n",
        " [ 3,  0,  6],\n",
        " [ 4,  0,  7],\n",
        " [ 1,  1,  6],\n",
        " [ 2,  1,  7],\n",
        " [ 3,  1,  8],\n",
        " [ 4,  1,  9]], dtype=np.float32)\n",
        "\n",
        "X = train_data[:, :-1]\n",
        "t = train_data[:, -1:]  \n",
        "#X = tf.convert_to_tensor(X, dtype=tf.float32)\n",
        "#t = tf.convert_to_tensor(t, dtype=tf.float32)\n",
        "print(\"X=\", X)\n",
        "print(\"t=\", t)\n",
        "\n",
        "tf.random.set_seed(1) # 난수열 초기화\n",
        "W = tf.Variable(tf.random.normal(shape=[2, 1]), )\n",
        "b = tf.Variable(tf.random.normal(shape=[1]))\n",
        "##W = tf.Variable([[0.5],[0.5]], dtype=tf.float32)\n",
        "##b = tf.Variable(0.0)\n",
        "print(\"W=\", W.numpy())\n",
        "print(\"b=\", b.numpy())\n",
        "\n",
        "y = tf.matmul(X, W) + b\n",
        "print(\"y=\", y.numpy())\n",
        "\n",
        "loss = MSE(y, t)\n",
        "print(\"MSE(y, t)=\", loss.numpy())\n"
      ]
    }
  ],
  "metadata": {
    "anaconda-cloud": {},
    "kernelspec": {
      "display_name": "base",
      "language": "python",
      "name": "python3"
    },
    "language_info": {
      "codemirror_mode": {
        "name": "ipython",
        "version": 3
      },
      "file_extension": ".py",
      "mimetype": "text/x-python",
      "name": "python",
      "nbconvert_exporter": "python",
      "pygments_lexer": "ipython3",
      "version": "3.9.13"
    },
    "vscode": {
      "interpreter": {
        "hash": "ad2bdc8ecc057115af97d19610ffacc2b4e99fae6737bb82f5d7fb13d2f2c186"
      }
    }
  },
  "nbformat": 4,
  "nbformat_minor": 4
}
