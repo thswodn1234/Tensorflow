{
  "cells": [
    {
      "cell_type": "code",
      "execution_count": 1,
      "metadata": {},
      "outputs": [
        {
          "name": "stdout",
          "output_type": "stream",
          "text": [
            "W=[[1.0032761]\n",
            " [2.005639 ]]. b=[2.9875078], loss=2.3675645934417844e-05\n"
          ]
        },
        {
          "data": {
            "image/png": "[encoded data removed]",
            "text/plain": [
              "<Figure size 640x480 with 1 Axes>"
            ]
          },
          "metadata": {},
          "output_type": "display_data"
        }
      ],
      "source": [
        "import numpy as np\n",
        "import tensorflow as tf\n",
        "import matplotlib.pyplot as plt\n",
        "\n",
        "MSE = tf.keras.losses.MeanSquaredError()\n",
        "\n",
        "train_data = np.array([ # t = 1*x1 + 2*x2 + 3\n",
        "#  x1, x2, t      \n",
        " [ 1,  0,  4],\n",
        " [ 2,  0,  5],\n",
        " [ 3,  0,  6],\n",
        " [ 4,  0,  7],\n",
        " [ 1,  1,  6],\n",
        " [ 2,  1,  7],\n",
        " [ 3,  1,  8],\n",
        " [ 4,  1,  9]], dtype=np.float32)\n",
        "\n",
        "X = train_data[:, :-1]\n",
        "t = train_data[:, -1:]\n",
        "\n",
        "tf.random.set_seed(1) # 난수열 초기화\n",
        "W = tf.Variable(tf.random.normal(shape=[2, 1]), )\n",
        "b = tf.Variable(tf.random.normal(shape=[1]))\n",
        "lr = 0.01  # learning rate, 0.001\n",
        "\n",
        "loss_list = [ ]\n",
        "for epoch in range(2000):   \n",
        "    with tf.GradientTape() as tape:\n",
        "        y = tf.matmul(X, W) + b\n",
        "        loss = MSE(y, t)\n",
        "    loss_list.append(loss.numpy())\n",
        "\n",
        "    dW, dB = tape.gradient(loss, [W, b])\n",
        "    W.assign_sub(lr * dW)\n",
        "    b.assign_sub(lr * dB)\n",
        "\n",
        "##    if not epoch%100:\n",
        "##        print(\"epoch={}: loss={}\".format(epoch, loss.numpy()))\n",
        "\n",
        "print(\"W={}. b={}, loss={}\".format(W.numpy(), b.numpy(), loss.numpy()))\n",
        "\n",
        "plt.plot(loss_list)\n",
        "plt.show()\n"
      ]
    }
  ],
  "metadata": {
    "anaconda-cloud": {},
    "kernelspec": {
      "display_name": "base",
      "language": "python",
      "name": "python3"
    },
    "language_info": {
      "codemirror_mode": {
        "name": "ipython",
        "version": 3
      },
      "file_extension": ".py",
      "mimetype": "text/x-python",
      "name": "python",
      "nbconvert_exporter": "python",
      "pygments_lexer": "ipython3",
      "version": "3.9.13"
    },
    "vscode": {
      "interpreter": {
        "hash": "ad2bdc8ecc057115af97d19610ffacc2b4e99fae6737bb82f5d7fb13d2f2c186"
      }
    }
  },
  "nbformat": 4,
  "nbformat_minor": 4
}
