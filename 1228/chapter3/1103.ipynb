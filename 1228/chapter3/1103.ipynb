{
  "cells": [
    {
      "cell_type": "code",
      "execution_count": null,
      "metadata": {},
      "outputs": [],
      "source": [
        "import tensorflow as tf\n",
        "import numpy as np\n",
        "import matplotlib.pyplot as plt\n",
        "\n",
        "MSE = tf.keras.losses.MeanSquaredError()\n",
        "def mse_loss():\n",
        "     y = tf.zeros_like(x)\n",
        "     for i in range(W.shape[0]):\n",
        "          y += W[i]*(x**(i+1))\n",
        "     y += b # bias\n",
        "     return MSE(y, t) # tf.reduce_mean(tf.square(y - t))\n",
        "\n",
        "EPOCH = 5000\n",
        "train_size = 20\n",
        "\n",
        "# create the train data\n",
        "tf.random.set_seed(1)\n",
        "x = tf.linspace(-5.0, 5.0, num=train_size)\n",
        "\n",
        "w_true = tf.Variable([1.0, 2.0, 3.0])\n",
        "b_true = tf.Variable(4.0)    \n",
        "t = w_true[2]*x**3 + w_true[1]*x**2 + w_true[0]*x + b_true      \n",
        "t += tf.random.normal([train_size], mean=0.0, stddev = 30)\n",
        "\n",
        "# train variables\n",
        "n = 4 # n-th polynomial curve\n",
        "W = tf.Variable(tf.random.normal([n]))\n",
        "b = tf.Variable(tf.random.normal([])) \n",
        "\n",
        "opt = tf.keras.optimizers.Adam(learning_rate=0.01)\n",
        "##opt = tf.keras.optimizers.RMSprop(0.01)\n",
        "\n",
        "loss_list = [ ]\n",
        "for epoch in range(EPOCH): \n",
        "    opt.minimize(mse_loss, var_list= [W, b])\n",
        "     \n",
        "    loss = mse_loss().numpy()\n",
        "    loss_list.append(loss)\n",
        "\n",
        "    if not epoch%100:\n",
        "        print(\"epoch={}: loss={}\".format(epoch, loss))\n",
        "        \n",
        "print(\"W={}. b={}, loss={}\".format(W.numpy(), b.numpy(),loss))\n",
        "plt.plot(loss_list)\n",
        "plt.show()\n",
        "\n",
        "plt.scatter(x, t.numpy())\n",
        "\n",
        "# polynomial curve\n",
        "t_pred = tf.zeros_like(x)\n",
        "for i in range(W.shape[0]): # n = W.shape[0] \n",
        "     t_pred += W[i]*(x**(i+1))\n",
        "t_pred += b # bias\n",
        "     \n",
        "plt.plot(x, t_pred, 'red')\n",
        "plt.show()\n"
      ]
    }
  ],
  "metadata": {
    "anaconda-cloud": {},
    "kernelspec": {
      "display_name": "base",
      "language": "python",
      "name": "python3"
    },
    "language_info": {
      "codemirror_mode": {
        "name": "ipython",
        "version": 3
      },
      "file_extension": ".py",
      "mimetype": "text/x-python",
      "name": "python",
      "nbconvert_exporter": "python",
      "pygments_lexer": "ipython3",
      "version": "3.9.13 (main, Aug 25 2022, 23:51:50) [MSC v.1916 64 bit (AMD64)]"
    },
    "vscode": {
      "interpreter": {
        "hash": "ad2bdc8ecc057115af97d19610ffacc2b4e99fae6737bb82f5d7fb13d2f2c186"
      }
    }
  },
  "nbformat": 4,
  "nbformat_minor": 4
}
