{
  "cells": [
    {
      "cell_type": "code",
      "execution_count": 1,
      "metadata": {},
      "outputs": [
        {
          "name": "stdout",
          "output_type": "stream",
          "text": [
            "w=0.9919. b=0.0610, loss=0.0010547313140705228\n"
          ]
        },
        {
          "data": {
            "image/png": "[encoded data removed]",
            "text/plain": [
              "<Figure size 640x480 with 1 Axes>"
            ]
          },
          "metadata": {},
          "output_type": "display_data"
        }
      ],
      "source": [
        "import numpy as np\n",
        "import tensorflow as tf\n",
        "import matplotlib.pyplot as plt\n",
        "\n",
        "x = np.arange(12)\n",
        "t = np.arange(12)\n",
        "#x = tf.convert_to_tensor(x, dtype=tf.float32)\n",
        "#t = tf.convert_to_tensor(t, dtype=tf.float32)\n",
        "\n",
        "w = tf.Variable(0.5)\n",
        "b = tf.Variable(0.0)\n",
        "lr = 0.001   # learning rate\n",
        "\n",
        "loss_list = [ ]  # for graph \n",
        "for epoch in range(100):   \n",
        "    with tf.GradientTape() as tape:\n",
        "        y = x*w + b\n",
        "        loss = tf.reduce_mean(tf.square(y - t))\n",
        "    loss_list.append(loss.numpy())\n",
        "\n",
        "    dW, dB = tape.gradient(loss, [w, b])\n",
        "    w.assign_sub(lr * dW) \n",
        "    b.assign_sub(lr * dB)\n",
        "##    if not epoch%10:\n",
        "##        print(\"epoch={}: w={:>.4f}. b={:>.4f}, loss={}\".format(\n",
        "##               epoch, w.numpy(), b.numpy(), loss.numpy()))\n",
        "\n",
        "print(\"w={:>.4f}. b={:>.4f}, loss={}\".format(w.numpy(), b.numpy(), loss.numpy()))\n",
        "\n",
        "plt.plot(loss_list)\n",
        "plt.show()\n"
      ]
    }
  ],
  "metadata": {
    "anaconda-cloud": {},
    "kernelspec": {
      "display_name": "base",
      "language": "python",
      "name": "python3"
    },
    "language_info": {
      "codemirror_mode": {
        "name": "ipython",
        "version": 3
      },
      "file_extension": ".py",
      "mimetype": "text/x-python",
      "name": "python",
      "nbconvert_exporter": "python",
      "pygments_lexer": "ipython3",
      "version": "3.9.13"
    },
    "vscode": {
      "interpreter": {
        "hash": "ad2bdc8ecc057115af97d19610ffacc2b4e99fae6737bb82f5d7fb13d2f2c186"
      }
    }
  },
  "nbformat": 4,
  "nbformat_minor": 4
}
