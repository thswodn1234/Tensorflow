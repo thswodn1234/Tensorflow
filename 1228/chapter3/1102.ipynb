{
  "cells": [
    {
      "cell_type": "code",
      "execution_count": null,
      "metadata": {},
      "outputs": [],
      "source": [
        "import tensorflow as tf\n",
        "import numpy as np\n",
        "import matplotlib.pyplot as plt\n",
        "\n",
        "MSE = tf.keras.losses.MeanSquaredError()\n",
        "def mse_loss():\n",
        "     y = a*x**2 + b*x+c\n",
        "##     y = a*tf.pow(x, 2) + b**x + c\n",
        "     return MSE(y, t) # tf.reduce_mean(tf.square(y - t))\n",
        "\n",
        "EPOCH = 1000\n",
        "train_size = 20\n",
        "\n",
        "# create the train data\n",
        "tf.random.set_seed(1) # np.random.seed(1)\n",
        "x = tf.linspace(-5.0, 5.0, num=train_size)\n",
        "\n",
        "a_true = tf.Variable(3.0)\n",
        "b_true = tf.Variable(2.0)\n",
        "c_true = tf.Variable(1.0)\n",
        "t = a_true*tf.pow(x, 2) + b_true*x+c_true\n",
        "t += tf.random.normal([train_size], mean=0.0, stddev = 2)\n",
        "#t = tf.add(t, np.random.normal(0, 2.0, train_size))\n",
        "\n",
        "a = tf.Variable(tf.random.normal([]))\n",
        "b = tf.Variable(tf.random.normal([]))\n",
        "c = tf.Variable(tf.random.normal([]))\n",
        "                \n",
        "opt = tf.keras.optimizers.SGD(learning_rate=0.001)\n",
        "#opt = tf.keras.optimizers.Adam(learning_rate=0.01)\n",
        "##opt = tf.keras.optimizers.RMSprop(0.01)\n",
        "\n",
        "loss_list = [ ]\n",
        "for epoch in range(EPOCH):   \n",
        "    opt.minimize(mse_loss, var_list= [a, b, c])\n",
        "     \n",
        "    loss = mse_loss().numpy()\n",
        "    loss_list.append(loss)\n",
        "\n",
        "    if not epoch%100:\n",
        "        print(\"epoch={}: loss={}\".format(epoch, loss))      \n",
        "\n",
        "print(\"a={:>.4f}. b={:>.4f}, c={:>.4f}, loss={}\".format(\n",
        "       a.numpy(), b.numpy(), c.numpy(),loss))\n",
        "\n",
        "plt.plot(loss_list)\n",
        "plt.show()\n",
        "\n",
        "plt.scatter(x, t.numpy())\n",
        "\n",
        "t_pred = a*tf.pow(x, 2) + b*x + c # parabola curve\n",
        "plt.plot(x, t_pred, 'red')\n",
        "plt.show()\n"
      ]
    }
  ],
  "metadata": {
    "anaconda-cloud": {},
    "kernelspec": {
      "display_name": "base",
      "language": "python",
      "name": "python3"
    },
    "language_info": {
      "codemirror_mode": {
        "name": "ipython",
        "version": 3
      },
      "file_extension": ".py",
      "mimetype": "text/x-python",
      "name": "python",
      "nbconvert_exporter": "python",
      "pygments_lexer": "ipython3",
      "version": "3.9.13 (main, Aug 25 2022, 23:51:50) [MSC v.1916 64 bit (AMD64)]"
    },
    "vscode": {
      "interpreter": {
        "hash": "ad2bdc8ecc057115af97d19610ffacc2b4e99fae6737bb82f5d7fb13d2f2c186"
      }
    }
  },
  "nbformat": 4,
  "nbformat_minor": 4
}
