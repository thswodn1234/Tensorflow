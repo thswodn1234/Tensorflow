{
  "cells": [
    {
      "cell_type": "code",
      "execution_count": 4,
      "metadata": {},
      "outputs": [
        {
          "name": "stdout",
          "output_type": "stream",
          "text": [
            "W=[[0.995    ]\n",
            " [1.9950006]], b=[2.9950001], loss=0.00043748487951233983\n"
          ]
        },
        {
          "data": {
            "image/png": "[encoded data removed]",
            "text/plain": [
              "<Figure size 640x480 with 1 Axes>"
            ]
          },
          "metadata": {},
          "output_type": "display_data"
        }
      ],
      "source": [
        "import numpy as np\n",
        "import tensorflow as tf\n",
        "import matplotlib.pyplot as plt\n",
        "\n",
        "MSE = tf.keras.losses.MeanSquaredError()\n",
        "def mse_loss():\n",
        "    y = tf.matmul(X, W) + b\n",
        "    return MSE(y, t)\n",
        "##    return tf.reduce_mean(tf.square(y - t))\n",
        "\n",
        "train_data = np.array([ # t = 1*x1 + 2*x2 + 3\n",
        "#  x1, x2, t      \n",
        " [ 1,  0,  4],\n",
        " [ 2,  0,  5],\n",
        " [ 3,  0,  6],\n",
        " [ 4,  0,  7],\n",
        " [ 1,  1,  6],\n",
        " [ 2,  1,  7],\n",
        " [ 3,  1,  8],\n",
        " [ 4,  1,  9]], dtype=np.float32)\n",
        "\n",
        "X = train_data[:, :-1]\n",
        "t = train_data[:, -1:]\n",
        "\n",
        "tf.random.set_seed(1)\n",
        "W = tf.Variable(tf.random.normal(shape=[2, 1]), )\n",
        "b = tf.Variable(tf.random.normal(shape=[1]))\n",
        "\n",
        "# opt = tf.keras.optimizers.SGD(learning_rate=0.01)\n",
        "# opt = tf.keras.optimizers.Adagrad(0.01)\n",
        "##opt = tf.keras.optimizers.Adam(0.01) \n",
        "opt = tf.keras.optimizers.RMSprop(0.01)\n",
        "     \n",
        "loss_list = [ ]\n",
        "for epoch in range(1000):   \n",
        "    opt.minimize(mse_loss, var_list= [W, b])\n",
        "    \n",
        "    loss = mse_loss().numpy()\n",
        "    loss_list.append(loss)\n",
        "##    if not epoch % 100:\n",
        "##            print (\"epoch={}: loss={:.5f}\".format(epoch, loss))\t\n",
        "                    \n",
        "print (\"W={}, b={}, loss={}\".format(\n",
        "        W.numpy(), b.numpy(), loss))\t\n",
        "plt.plot(loss_list)\n",
        "plt.show()\n"
      ]
    }
  ],
  "metadata": {
    "anaconda-cloud": {},
    "kernelspec": {
      "display_name": "base",
      "language": "python",
      "name": "python3"
    },
    "language_info": {
      "codemirror_mode": {
        "name": "ipython",
        "version": 3
      },
      "file_extension": ".py",
      "mimetype": "text/x-python",
      "name": "python",
      "nbconvert_exporter": "python",
      "pygments_lexer": "ipython3",
      "version": "3.9.13"
    },
    "vscode": {
      "interpreter": {
        "hash": "ad2bdc8ecc057115af97d19610ffacc2b4e99fae6737bb82f5d7fb13d2f2c186"
      }
    }
  },
  "nbformat": 4,
  "nbformat_minor": 4
}
